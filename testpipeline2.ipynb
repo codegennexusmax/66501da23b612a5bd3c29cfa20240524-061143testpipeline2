{
 "cells": [
  {
   "cell_type": "markdown",
   "id": "5acd801d",
   "metadata": {},
   "source": [
    "***GENERATED CODE FOR testpipeline2 PIPELINE.***"
   ]
  },
  {
   "cell_type": "markdown",
   "id": "0fc82265",
   "metadata": {},
   "source": [
    "***DON'T EDIT THIS CODE.***"
   ]
  },
  {
   "cell_type": "markdown",
   "id": "ccbfaa15",
   "metadata": {},
   "source": [
    "***CONNECTOR FUNCTIONS TO READ DATA.***"
   ]
  },
  {
   "cell_type": "code",
   "execution_count": null,
   "id": "fae80c52",
   "metadata": {},
   "outputs": [],
   "source": [
    "import os\n",
    "import datetime\n",
    "import logging\n",
    "import warnings\n",
    "warnings.filterwarnings('ignore')\n",
    "logging.basicConfig(format='%(levelname)s:%(message)s', level=logging.INFO)\n",
    "\n",
    "\n",
    "class HDFSConnector:\n",
    "\n",
    "    def fetch(spark, config):\n",
    "        ################### INPUT HADOOP HOST PORT TO CONNECT WITH ###############################\n",
    "        hdfs_server = str(os.environ['HDFS_SERVER'])\n",
    "        hdfs_port = int(os.environ['HDFS_PORT'])\n",
    "        df = spark.read.options(header='true', inferschema='true').csv(\n",
    "            f\"hdfs://{hdfs_server}:{hdfs_port}{eval(config)['url']}\", header='true')\n",
    "        display(df.limit(2).toPandas())\n",
    "        return df\n",
    "\n",
    "    def put(df, spark, config):\n",
    "        return df.write.format('csv').options(header='true' if eval(config)[\"is_header\"] == \"Use Header Line\" else 'false',\n",
    "                                              delimiter=eval(config)[\"delimiter\"]).save((\"%s %s\") % (datetime.datetime.now().strftime(\"%Y-%m-%d %H.%M.%S\")+\"_\", eval(config)['url']))\n"
   ]
  },
  {
   "cell_type": "markdown",
   "id": "2eee3745",
   "metadata": {},
   "source": [
    "***TRANSFORMATIONS FUNCTIONS THAT WILL BE APPLIED ON DATA***"
   ]
  },
  {
   "cell_type": "code",
   "execution_count": null,
   "id": "e91e277e",
   "metadata": {},
   "outputs": [],
   "source": [
    "import json\n",
    "import pyspark\n",
    "from pyspark.sql.functions import col, when\n",
    "from pyspark.sql.functions import mean, stddev, min, max, col\n",
    "\n",
    "\n",
    "class CleanseData:\n",
    "    # def __init__(self,df):\n",
    "    #     #print()\n",
    "\n",
    "    def cleanValueForFE(self, value):\n",
    "        if value == None:\n",
    "            return \"\"\n",
    "        elif str(value) == 'nan':\n",
    "            return \"nan\"\n",
    "        else:\n",
    "            return value\n",
    "\n",
    "    def replaceByMean(self, feature, df, mean_=-1):\n",
    "        df1 = df\n",
    "        df1 = df1.dropna()\n",
    "        meanValue = self.cleanValueForFE(df1.select(\n",
    "            mean(col(feature.name)).alias('mean')).collect()[0][\"mean\"])\n",
    "        df = df.fillna(meanValue, subset=[feature.name])\n",
    "        df.withColumn(feature.name, when(col(feature.name) == \" \",\n",
    "                      meanValue).otherwise(col(feature.name).cast(\"Integer\")))\n",
    "        return df\n",
    "\n",
    "    def replaceByMax(self, feature, df, max_=-1):\n",
    "        df1 = df\n",
    "        df1 = df1.dropna()\n",
    "        maxValue = self.cleanValueForFE(df1.select(\n",
    "            max(col(feature.name)).alias('max')).collect()[0][\"max\"])\n",
    "        df = df.fillna(maxValue, subset=[feature.name])\n",
    "        df = df.withColumn(feature.name,\n",
    "                           when(col(feature.name) == \" \", maxValue).otherwise(col(feature.name)))\n",
    "        return df\n",
    "\n",
    "    def replaceByMin(self, feature, df, min_=-1):\n",
    "        df1 = df\n",
    "        df1 = df1.dropna()\n",
    "        minValue = self.cleanValueForFE(df1.select(\n",
    "            min(col(feature.name)).alias('min')).collect()[0][\"min\"])\n",
    "        df = df.fillna(minValue, subset=[feature.name])\n",
    "        df = df.withColumn(feature.name,\n",
    "                           when(col(feature.name) == \" \", minValue).otherwise(col(feature.name)))\n",
    "        return df\n",
    "\n",
    "    def replaceByStandardDeviation(self, feature, df, stddev_=-1):\n",
    "        df1 = df\n",
    "        df1 = df1.dropna()\n",
    "        stddevValue = self.cleanValueForFE(df1.select(\n",
    "            stddev(col(feature.name)).alias('stddev')).collect()[0][\"stddev\"])\n",
    "        df = df.fillna(stddevValue, subset=[feature.name])\n",
    "        df = df.withColumn(feature.name,\n",
    "                           when(col(feature.name) == \" \", stddevValue).otherwise(col(feature.name)))\n",
    "        return df\n",
    "\n",
    "    def replaceDateRandomly(self, feature, df):\n",
    "        df1 = df\n",
    "        df1 = df1.dropna()\n",
    "        fillValue = self.cleanValueForFE(\n",
    "            df.where(col(feature.name).isNotNull()).head(1)[0][feature.name])\n",
    "        df = df.fillna(str(fillValue), subset=[feature.name])\n",
    "        df = df.withColumn(feature.name,\n",
    "                           when(col(feature.name) == \" \", fillValue).otherwise(col(feature.name)))\n",
    "        # print(\"CleanseData:replaceDateRandomly Schema : \", df.#printSchema())\n",
    "        return df\n",
    "\n",
    "    def replaceNullValues(self, fList, df):\n",
    "        featuresList = df.schema.fields\n",
    "        for featureObj in fList:\n",
    "            for feat in featuresList:\n",
    "                if featureObj[\"feature\"] in feat.name:\n",
    "                    featureName = feat\n",
    "                    if \"mean\" in featureObj[\"replaceby\"]:\n",
    "                        df = self.replaceByMean(featureName, df)\n",
    "                    elif \"max\" in featureObj[\"replaceby\"]:\n",
    "                        df = self.replaceByMax(featureName, df)\n",
    "                    elif \"min\" in featureObj[\"replaceby\"]:\n",
    "                        df = self.replaceByMin(featureName, df)\n",
    "                    elif \"stddev\" in featureObj[\"replaceby\"]:\n",
    "                        df = self.replaceByStandardDeviation(featureName, df)\n",
    "                    elif \"random\" in featureObj[\"replaceby\"]:\n",
    "                        df = self.replaceDateRandomly(featureName, df)\n",
    "        return df\n",
    "\n",
    "\n",
    "class TransformationTimeSeriesForecastingMain:\n",
    "    # TODO: change df argument in run with following\n",
    "    def run(transformationDF, config):\n",
    "        configObj = json.loads(config)\n",
    "        featureData = configObj[\"FE\"]['featureList']\n",
    "        ForecastFE = configObj[\"FE\"]\n",
    "        featuresSelectedList = [ForecastFE['features']\n",
    "                                ['timecolumn'], ForecastFE['features']['tocompare']]\n",
    "        transformedDF = transformationDF.select(\n",
    "            [c for c in transformationDF.columns if c in featuresSelectedList])\n",
    "        transformedDF = CleanseData().replaceNullValues(featureData, transformedDF)\n",
    "        transformationDF = transformationDF.drop('AdmitDate')\n",
    "        transformationDF = transformationDF.drop('gender')\n",
    "        transformationDF = transformationDF.drop('discharged')\n",
    "        transformationDF = transformationDF.drop('facid')\n",
    "\n",
    "        transformedDF.persist(pyspark.StorageLevel.MEMORY_AND_DISK)\n",
    "        df = transformedDF.toPandas()\n",
    "        return df\n"
   ]
  },
  {
   "cell_type": "markdown",
   "id": "175991a9",
   "metadata": {},
   "source": [
    "***AUTOML FUNCTIONS***"
   ]
  },
  {
   "cell_type": "code",
   "execution_count": null,
   "id": "571ea049",
   "metadata": {},
   "outputs": [],
   "source": [
    "from statsmodels.tsa.arima.model import ARIMA\n",
    "\n",
    "\n",
    "def driverArima(df):\n",
    "    df = df.set_index(df.columns[0])\n",
    "    objARIMA = ARIMA(df, order=[2, 1, 2])\n",
    "    model = objARIMA.fit()\n",
    "    print(model.summary().tables[0])\n",
    "    print(model.summary().tables[1])\n",
    "    modelData = {\"model\": model, \"X_label\": list(df.reset_index().columns)[0],\n",
    "                 \"y_label\": list(df.reset_index().columns)[1]}\n",
    "    return modelData\n"
   ]
  },
  {
   "cell_type": "markdown",
   "id": "e3c96000",
   "metadata": {},
   "source": [
    "***READING DATAFRAME***"
   ]
  },
  {
   "cell_type": "code",
   "execution_count": null,
   "id": "28d02a1a",
   "metadata": {},
   "outputs": [],
   "source": [
    "############## CREATE SPARK SESSION ############################ ENTER YOUR SPARK MASTER IP AND PORT TO CONNECT TO SERVER ################\n",
    "from pyspark.sql import SparkSession\n",
    "spark = SparkSession.builder.master('local[1]').getOrCreate()\n",
    "#%run testpipeline2Hooks.ipynb\n",
    "try:\n",
    "\t#sourcePreExecutionHook()\n",
    "\n",
    "\tortednsvq = HDFSConnector.fetch(spark, \"{'url': '/FileStore/platform/uploadedSourceFiles/part-00000-2febb555-e916-4d36-8a1b-093a73422cf0-c000.csv', 'filename': '1716529824sorted.csv', 'delimiter': ',', 'file_type': 'Delimeted', 'FilePath': '/TimeSeriesTesting/sorted.csv', 'viewFileName': 'sorted.csv', 'is_header': 'Use Header Line', 'baseType': 'hdfs', 'server_url': '/nexusMax/NexusMaxPlatform/uploads/platform/', 'results_url': 'http://dnm.bfirst.ai:44040/api/read/hdfs'}\")\n",
    "\n",
    "except Exception as ex: \n",
    "\tlogging.error(ex)\n",
    "#spark.stop()\n"
   ]
  },
  {
   "cell_type": "markdown",
   "id": "eb001432",
   "metadata": {},
   "source": [
    "***TRANSFORMING DATAFRAME***"
   ]
  },
  {
   "cell_type": "code",
   "execution_count": null,
   "id": "1fd18644",
   "metadata": {},
   "outputs": [],
   "source": [
    "#%run testpipeline2Hooks.ipynb\n",
    "try:\n",
    "\t#transformationPreExecutionHook()\n",
    "\n",
    "\ttimeseriesfe = TransformationTimeSeriesForecastingMain.run(ortednsvq, json.dumps( {\"FE\": {\"functionList\": [{\"function\": \"rollingmean\", \"parameter\": 4}], \"stage_attributes\": {}, \"featureList\": [{\"transformationsData\": [{\"feature_label\": \"AdmitDate\", \"transformation_label\": \"String Indexer\"}], \"feature\": \"AdmitDate\", \"type\": \"string\", \"selected\": \"False\", \"replaceby\": \"max\", \"stats\": {\"count\": \"412\", \"mean\": \"\", \"stddev\": \"\", \"min\": \"01/01/2012\", \"max\": \"01/02/2012\", \"missing\": \"0\", \"distinct\": \"2\"}, \"transformation\": [{\"transformation\": \"String Indexer\", \"selectedAsDefault\": 1}], \"updatedLabel\": \"AdmitDate\"}, {\"transformationsData\": [{\"transformation_label\": \"novalue\"}], \"feature\": \"lengthofstay\", \"type\": \"real\", \"selected\": \"True\", \"replaceby\": \"mean\", \"stats\": {\"count\": \"412\", \"mean\": \"4.48\", \"stddev\": \"2.39\", \"min\": \"1.0\", \"max\": \"14.0\", \"missing\": \"0\"}, \"transformation\": [{\"transformation\": \"novalue\", \"selectedAsDefault\": 1}], \"updatedLabel\": \"lengthofstay\"}, {\"transformationsData\": [{\"transformation_label\": \"novalue\"}], \"feature\": \"rcount\", \"type\": \"real\", \"selected\": \"True\", \"replaceby\": \"mean\", \"stats\": {\"count\": \"412\", \"mean\": \"1.3\", \"stddev\": \"1.61\", \"min\": \"0.0\", \"max\": \"5.0\", \"missing\": \"0\"}, \"transformation\": [{\"transformation\": \"novalue\", \"selectedAsDefault\": 1}], \"updatedLabel\": \"rcount\"}, {\"transformationsData\": [{\"feature_label\": \"gender\", \"transformation_label\": \"String Indexer\"}], \"feature\": \"gender\", \"type\": \"string\", \"selected\": \"False\", \"replaceby\": \"max\", \"stats\": {\"count\": \"412\", \"mean\": \"\", \"stddev\": \"\", \"min\": \"F\", \"max\": \"M\", \"missing\": \"0\", \"distinct\": \"2\"}, \"transformation\": [{\"transformation\": \"String Indexer\", \"selectedAsDefault\": 1}], \"updatedLabel\": \"gender\"}, {\"transformationsData\": [{\"transformation_label\": \"novalue\"}], \"feature\": \"dialysisrenalendstage\", \"type\": \"real\", \"selected\": \"True\", \"replaceby\": \"mean\", \"stats\": {\"count\": \"412\", \"mean\": \"0.04\", \"stddev\": \"0.2\", \"min\": \"0.0\", \"max\": \"1.0\", \"missing\": \"0\"}, \"transformation\": [{\"transformation\": \"novalue\", \"selectedAsDefault\": 1}], \"updatedLabel\": \"dialysisrenalendstage\"}, {\"transformationsData\": [{\"transformation_label\": \"novalue\"}], \"feature\": \"asthma\", \"type\": \"real\", \"selected\": \"True\", \"replaceby\": \"mean\", \"stats\": {\"count\": \"412\", \"mean\": \"0.04\", \"stddev\": \"0.2\", \"min\": \"0.0\", \"max\": \"1.0\", \"missing\": \"0\"}, \"transformation\": [{\"transformation\": \"novalue\", \"selectedAsDefault\": 1}], \"updatedLabel\": \"asthma\"}, {\"transformationsData\": [{\"transformation_label\": \"novalue\"}], \"feature\": \"irondef\", \"type\": \"real\", \"selected\": \"True\", \"replaceby\": \"mean\", \"stats\": {\"count\": \"412\", \"mean\": \"0.12\", \"stddev\": \"0.32\", \"min\": \"0.0\", \"max\": \"1.0\", \"missing\": \"0\"}, \"transformation\": [{\"transformation\": \"novalue\", \"selectedAsDefault\": 1}], \"updatedLabel\": \"irondef\"}, {\"transformationsData\": [{\"transformation_label\": \"novalue\"}], \"feature\": \"pneum\", \"type\": \"real\", \"selected\": \"True\", \"replaceby\": \"mean\", \"stats\": {\"count\": \"412\", \"mean\": \"0.03\", \"stddev\": \"0.18\", \"min\": \"0.0\", \"max\": \"1.0\", \"missing\": \"0\"}, \"transformation\": [{\"transformation\": \"novalue\", \"selectedAsDefault\": 1}], \"updatedLabel\": \"pneum\"}, {\"transformationsData\": [{\"transformation_label\": \"novalue\"}], \"feature\": \"substancedependence\", \"type\": \"real\", \"selected\": \"True\", \"replaceby\": \"mean\", \"stats\": {\"count\": \"412\", \"mean\": \"0.09\", \"stddev\": \"0.29\", \"min\": \"0.0\", \"max\": \"1.0\", \"missing\": \"0\"}, \"transformation\": [{\"transformation\": \"novalue\", \"selectedAsDefault\": 1}], \"updatedLabel\": \"substancedependence\"}, {\"transformationsData\": [{\"transformation_label\": \"novalue\"}], \"feature\": \"psychologicaldisordermajor\", \"type\": \"real\", \"selected\": \"True\", \"replaceby\": \"mean\", \"stats\": {\"count\": \"412\", \"mean\": \"0.26\", \"stddev\": \"0.44\", \"min\": \"0.0\", \"max\": \"1.0\", \"missing\": \"0\"}, \"transformation\": [{\"transformation\": \"novalue\", \"selectedAsDefault\": 1}], \"updatedLabel\": \"psychologicaldisordermajo...\"}, {\"transformationsData\": [{\"transformation_label\": \"novalue\"}], \"feature\": \"depress\", \"type\": \"real\", \"selected\": \"True\", \"replaceby\": \"mean\", \"stats\": {\"count\": \"412\", \"mean\": \"0.06\", \"stddev\": \"0.23\", \"min\": \"0.0\", \"max\": \"1.0\", \"missing\": \"0\"}, \"transformation\": [{\"transformation\": \"novalue\", \"selectedAsDefault\": 1}], \"updatedLabel\": \"depress\"}, {\"transformationsData\": [{\"transformation_label\": \"novalue\"}], \"feature\": \"psychother\", \"type\": \"real\", \"selected\": \"True\", \"replaceby\": \"mean\", \"stats\": {\"count\": \"412\", \"mean\": \"0.09\", \"stddev\": \"0.29\", \"min\": \"0.0\", \"max\": \"1.0\", \"missing\": \"0\"}, \"transformation\": [{\"transformation\": \"novalue\", \"selectedAsDefault\": 1}], \"updatedLabel\": \"psychother\"}, {\"transformationsData\": [{\"transformation_label\": \"novalue\"}], \"feature\": \"fibrosisandother\", \"type\": \"real\", \"selected\": \"True\", \"replaceby\": \"mean\", \"stats\": {\"count\": \"412\", \"mean\": \"0.0\", \"stddev\": \"0.0\", \"min\": \"0.0\", \"max\": \"0.0\", \"missing\": \"0\"}, \"transformation\": [{\"transformation\": \"novalue\", \"selectedAsDefault\": 1}], \"updatedLabel\": \"fibrosisandother\"}, {\"transformationsData\": [{\"transformation_label\": \"novalue\"}], \"feature\": \"malnutrition\", \"type\": \"real\", \"selected\": \"True\", \"replaceby\": \"mean\", \"stats\": {\"count\": \"412\", \"mean\": \"0.07\", \"stddev\": \"0.26\", \"min\": \"0.0\", \"max\": \"1.0\", \"missing\": \"0\"}, \"transformation\": [{\"transformation\": \"novalue\", \"selectedAsDefault\": 1}], \"updatedLabel\": \"malnutrition\"}, {\"transformationsData\": [{\"transformation_label\": \"novalue\"}], \"feature\": \"hemo\", \"type\": \"real\", \"selected\": \"True\", \"replaceby\": \"mean\", \"stats\": {\"count\": \"412\", \"mean\": \"0.08\", \"stddev\": \"0.26\", \"min\": \"0.0\", \"max\": \"1.0\", \"missing\": \"0\"}, \"transformation\": [{\"transformation\": \"novalue\", \"selectedAsDefault\": 1}], \"updatedLabel\": \"hemo\"}, {\"transformationsData\": [{\"transformation_label\": \"novalue\"}], \"feature\": \"hematocrit\", \"type\": \"real\", \"selected\": \"True\", \"replaceby\": \"mean\", \"stats\": {\"count\": \"412\", \"mean\": \"11.44\", \"stddev\": \"2.04\", \"min\": \"7.0\", \"max\": \"20.0\", \"missing\": \"0\"}, \"transformation\": [{\"transformation\": \"novalue\", \"selectedAsDefault\": 1}], \"updatedLabel\": \"hematocrit\"}, {\"transformationsData\": [{\"transformation_label\": \"novalue\"}], \"feature\": \"neutrophils\", \"type\": \"real\", \"selected\": \"True\", \"replaceby\": \"mean\", \"stats\": {\"count\": \"412\", \"mean\": \"9.83\", \"stddev\": \"4.25\", \"min\": \"0.0\", \"max\": \"28.0\", \"missing\": \"0\"}, \"transformation\": [{\"transformation\": \"novalue\", \"selectedAsDefault\": 1}], \"updatedLabel\": \"neutrophils\"}, {\"transformationsData\": [{\"transformation_label\": \"novalue\"}], \"feature\": \"sodium\", \"type\": \"real\", \"selected\": \"True\", \"replaceby\": \"mean\", \"stats\": {\"count\": \"412\", \"mean\": \"137.33\", \"stddev\": \"3.09\", \"min\": \"129.0\", \"max\": \"146.0\", \"missing\": \"0\"}, \"transformation\": [{\"transformation\": \"novalue\", \"selectedAsDefault\": 1}], \"updatedLabel\": \"sodium\"}, {\"transformationsData\": [{\"transformation_label\": \"novalue\"}], \"feature\": \"glucose\", \"type\": \"real\", \"selected\": \"True\", \"replaceby\": \"mean\", \"stats\": {\"count\": \"412\", \"mean\": \"140.8\", \"stddev\": \"30.93\", \"min\": \"25.0\", \"max\": \"224.0\", \"missing\": \"0\"}, \"transformation\": [{\"transformation\": \"novalue\", \"selectedAsDefault\": 1}], \"updatedLabel\": \"glucose\"}, {\"transformationsData\": [{\"transformation_label\": \"novalue\"}], \"feature\": \"bloodureanitro\", \"type\": \"real\", \"selected\": \"True\", \"replaceby\": \"mean\", \"stats\": {\"count\": \"412\", \"mean\": \"14.62\", \"stddev\": \"9.59\", \"min\": \"4.0\", \"max\": \"98.0\", \"missing\": \"0\"}, \"transformation\": [{\"transformation\": \"novalue\", \"selectedAsDefault\": 1}], \"updatedLabel\": \"bloodureanitro\"}, {\"transformationsData\": [{\"transformation_label\": \"novalue\"}], \"feature\": \"creatinine\", \"type\": \"real\", \"selected\": \"True\", \"replaceby\": \"mean\", \"stats\": {\"count\": \"412\", \"mean\": \"0.66\", \"stddev\": \"0.48\", \"min\": \"0.0\", \"max\": \"1.0\", \"missing\": \"0\"}, \"transformation\": [{\"transformation\": \"novalue\", \"selectedAsDefault\": 1}], \"updatedLabel\": \"creatinine\"}, {\"transformationsData\": [{\"transformation_label\": \"novalue\"}], \"feature\": \"bmi\", \"type\": \"real\", \"selected\": \"True\", \"replaceby\": \"mean\", \"stats\": {\"count\": \"412\", \"mean\": \"29.4\", \"stddev\": \"2.06\", \"min\": \"22.0\", \"max\": \"35.0\", \"missing\": \"0\"}, \"transformation\": [{\"transformation\": \"novalue\", \"selectedAsDefault\": 1}], \"updatedLabel\": \"bmi\"}, {\"transformationsData\": [{\"transformation_label\": \"novalue\"}], \"feature\": \"pulse\", \"type\": \"real\", \"selected\": \"True\", \"replaceby\": \"mean\", \"stats\": {\"count\": \"412\", \"mean\": \"73.88\", \"stddev\": \"11.31\", \"min\": \"47.0\", \"max\": \"105.0\", \"missing\": \"0\"}, \"transformation\": [{\"transformation\": \"novalue\", \"selectedAsDefault\": 1}], \"updatedLabel\": \"pulse\"}, {\"transformationsData\": [{\"transformation_label\": \"novalue\"}], \"feature\": \"respiration\", \"type\": \"real\", \"selected\": \"True\", \"replaceby\": \"mean\", \"stats\": {\"count\": \"412\", \"mean\": \"6.06\", \"stddev\": \"0.61\", \"min\": \"4.0\", \"max\": \"8.0\", \"missing\": \"0\"}, \"transformation\": [{\"transformation\": \"novalue\", \"selectedAsDefault\": 1}], \"updatedLabel\": \"respiration\"}, {\"transformationsData\": [{\"transformation_label\": \"novalue\"}], \"feature\": \"secondarydiagnosisnonicd9\", \"type\": \"real\", \"selected\": \"True\", \"replaceby\": \"mean\", \"stats\": {\"count\": \"412\", \"mean\": \"2.29\", \"stddev\": \"2.22\", \"min\": \"0.0\", \"max\": \"10.0\", \"missing\": \"0\"}, \"transformation\": [{\"transformation\": \"novalue\", \"selectedAsDefault\": 1}], \"updatedLabel\": \"secondarydiagnosisnonicd9\"}, {\"transformationsData\": [{\"feature_label\": \"discharged\", \"transformation_label\": \"String Indexer\"}], \"feature\": \"discharged\", \"type\": \"string\", \"selected\": \"False\", \"replaceby\": \"max\", \"stats\": {\"count\": \"412\", \"mean\": \"\", \"stddev\": \"\", \"min\": \"1/15/2012\", \"max\": \"9/1/2012\", \"missing\": \"0\", \"distinct\": \"12\"}, \"transformation\": [{\"transformation\": \"String Indexer\", \"selectedAsDefault\": 1}], \"updatedLabel\": \"discharged\"}, {\"transformationsData\": [{\"feature_label\": \"facid\", \"transformation_label\": \"String Indexer\"}], \"feature\": \"facid\", \"type\": \"string\", \"selected\": \"False\", \"replaceby\": \"max\", \"stats\": {\"count\": \"412\", \"mean\": \"\", \"stddev\": \"\", \"min\": \"A\", \"max\": \"E\", \"missing\": \"0\", \"distinct\": \"5\"}, \"transformation\": [{\"transformation\": \"String Indexer\", \"selectedAsDefault\": 1}], \"updatedLabel\": \"facid\"}, {\"transformationsData\": [{}], \"feature\": \"changed date\", \"type\": \"date\", \"selected\": \"True\", \"replaceby\": \"random\", \"stats\": {\"count\": \"\", \"mean\": \"\", \"stddev\": \"\", \"min\": \"\", \"max\": \"\", \"missing\": \"0\"}, \"transformation\": [{\"transformation\": \"novalue\", \"selectedAsDefault\": 1}], \"updatedLabel\": \"changed date\"}], \"features\": {\"timecolumn\": \"changed date\", \"tocompare\": \"lengthofstay\"}, \"dataPercentage\": \"50\", \"originalfile\": \"/FileStore/platform/uploadedSourceFiles/part-00000-2febb555-e916-4d36-8a1b-093a73422cf0-c000.csv\", \"statFunction\": {\"function\": \"Original\", \"parameter\": \"\"}}}))\n",
    "\n",
    "\t#transformationPostExecutionHook(timeseriesfe)\n",
    "\n",
    "except Exception as ex: \n",
    "\tlogging.error(ex)\n"
   ]
  },
  {
   "cell_type": "markdown",
   "id": "9d46845f",
   "metadata": {},
   "source": [
    "***TRAIN MODEL***"
   ]
  },
  {
   "cell_type": "code",
   "execution_count": null,
   "id": "fe1ebcaf",
   "metadata": {},
   "outputs": [],
   "source": [
    "#%run testpipeline2Hooks.ipynb\n",
    "try:\n",
    "\t#mlPreExecutionHook()\n",
    "\n",
    "\tmodelData = driverArima(timeseriesfe)\n",
    "\n",
    "\t#mlPostExecutionHook(modelData)\n",
    "\n",
    "except Exception as ex: \n",
    "\tlogging.error(ex)\n",
    "#spark.stop()\n"
   ]
  },
  {
   "cell_type": "markdown",
   "id": "7dbd6573",
   "metadata": {},
   "source": [
    "***PREDICT ON TRAINED MODEL***"
   ]
  },
  {
   "cell_type": "code",
   "execution_count": null,
   "id": "15dae749",
   "metadata": {},
   "outputs": [],
   "source": [
    "from matplotlib import pyplot as plt\n",
    "try:\n",
    "    model=modelData['model']\n",
    "    X_label=modelData['X_label']\n",
    "    y_label=modelData['y_label']\n",
    "    plt.clf()\n",
    "    model.predict(1,264 )\n",
    "    plt.title('Trending Graphs')\n",
    "    plt.xlabel(X_label )\n",
    "    plt.ylabel(y_label )\n",
    "    plt.grid(color='lightgray')\n",
    "    display()\n",
    "except Exception as ex:\n",
    "    logging.error(ex)\n",
    "\n",
    "spark.stop()\n",
    "\n",
    "\n"
   ]
  }
 ],
 "metadata": {},
 "nbformat": 4,
 "nbformat_minor": 5
}
